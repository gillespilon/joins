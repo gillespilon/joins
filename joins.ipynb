{
 "cells": [
  {
   "cell_type": "markdown",
   "metadata": {},
   "source": [
    "# Joins"
   ]
  },
  {
   "cell_type": "markdown",
   "metadata": {},
   "source": [
    "# Introduction"
   ]
  },
  {
   "cell_type": "markdown",
   "metadata": {},
   "source": [
    "This Jupyter notebook explores SQL joins using Python."
   ]
  },
  {
   "cell_type": "code",
   "execution_count": 1,
   "metadata": {
    "collapsed": true
   },
   "outputs": [],
   "source": [
    "import pandas as pd"
   ]
  },
  {
   "cell_type": "code",
   "execution_count": 2,
   "metadata": {},
   "outputs": [],
   "source": [
    "left_table = pd.read_excel('left_table.xlsx', 'Sheet1')\n",
    "#left_table = pd.read_csv('left_table.csv')"
   ]
  },
  {
   "cell_type": "code",
   "execution_count": 3,
   "metadata": {},
   "outputs": [
    {
     "data": {
      "text/html": [
       "<div>\n",
       "<style>\n",
       "    .dataframe thead tr:only-child th {\n",
       "        text-align: right;\n",
       "    }\n",
       "\n",
       "    .dataframe thead th {\n",
       "        text-align: left;\n",
       "    }\n",
       "\n",
       "    .dataframe tbody tr th {\n",
       "        vertical-align: top;\n",
       "    }\n",
       "</style>\n",
       "<table border=\"1\" class=\"dataframe\">\n",
       "  <thead>\n",
       "    <tr style=\"text-align: right;\">\n",
       "      <th></th>\n",
       "      <th>ID</th>\n",
       "      <th>Employee</th>\n",
       "      <th>Equipment</th>\n",
       "      <th>Qty</th>\n",
       "    </tr>\n",
       "  </thead>\n",
       "  <tbody>\n",
       "    <tr>\n",
       "      <th>0</th>\n",
       "      <td>64566.0</td>\n",
       "      <td>Debra Aten</td>\n",
       "      <td>Laptop 12\" SC1 SH2</td>\n",
       "      <td>1</td>\n",
       "    </tr>\n",
       "    <tr>\n",
       "      <th>1</th>\n",
       "      <td>NaN</td>\n",
       "      <td>NaN</td>\n",
       "      <td>Monitor 22\" SC1</td>\n",
       "      <td>1</td>\n",
       "    </tr>\n",
       "    <tr>\n",
       "      <th>2</th>\n",
       "      <td>67059.0</td>\n",
       "      <td>Marcia Paulsen</td>\n",
       "      <td>Laptop 12\" SC1 SH2</td>\n",
       "      <td>1</td>\n",
       "    </tr>\n",
       "    <tr>\n",
       "      <th>3</th>\n",
       "      <td>NaN</td>\n",
       "      <td>NaN</td>\n",
       "      <td>Monitor 22\" SC1</td>\n",
       "      <td>2</td>\n",
       "    </tr>\n",
       "    <tr>\n",
       "      <th>4</th>\n",
       "      <td>67127.0</td>\n",
       "      <td>Stephen Krumpack Jr</td>\n",
       "      <td>Laptop 12\" SC1 SH2</td>\n",
       "      <td>1</td>\n",
       "    </tr>\n",
       "  </tbody>\n",
       "</table>\n",
       "</div>"
      ],
      "text/plain": [
       "        ID             Employee           Equipment  Qty\n",
       "0  64566.0           Debra Aten  Laptop 12\" SC1 SH2    1\n",
       "1      NaN                  NaN     Monitor 22\" SC1    1\n",
       "2  67059.0       Marcia Paulsen  Laptop 12\" SC1 SH2    1\n",
       "3      NaN                  NaN     Monitor 22\" SC1    2\n",
       "4  67127.0  Stephen Krumpack Jr  Laptop 12\" SC1 SH2    1"
      ]
     },
     "execution_count": 3,
     "metadata": {},
     "output_type": "execute_result"
    }
   ],
   "source": [
    "left_table.head()"
   ]
  },
  {
   "cell_type": "code",
   "execution_count": 4,
   "metadata": {},
   "outputs": [
    {
     "data": {
      "text/plain": [
       "(638, 4)"
      ]
     },
     "execution_count": 4,
     "metadata": {},
     "output_type": "execute_result"
    }
   ],
   "source": [
    "left_table.shape"
   ]
  },
  {
   "cell_type": "code",
   "execution_count": 5,
   "metadata": {
    "collapsed": true
   },
   "outputs": [],
   "source": [
    "left_table.insert(loc=2, column='Desk Location', value='')"
   ]
  },
  {
   "cell_type": "code",
   "execution_count": 6,
   "metadata": {},
   "outputs": [
    {
     "data": {
      "text/html": [
       "<div>\n",
       "<style>\n",
       "    .dataframe thead tr:only-child th {\n",
       "        text-align: right;\n",
       "    }\n",
       "\n",
       "    .dataframe thead th {\n",
       "        text-align: left;\n",
       "    }\n",
       "\n",
       "    .dataframe tbody tr th {\n",
       "        vertical-align: top;\n",
       "    }\n",
       "</style>\n",
       "<table border=\"1\" class=\"dataframe\">\n",
       "  <thead>\n",
       "    <tr style=\"text-align: right;\">\n",
       "      <th></th>\n",
       "      <th>ID</th>\n",
       "      <th>Employee</th>\n",
       "      <th>Desk Location</th>\n",
       "      <th>Equipment</th>\n",
       "      <th>Qty</th>\n",
       "    </tr>\n",
       "  </thead>\n",
       "  <tbody>\n",
       "    <tr>\n",
       "      <th>0</th>\n",
       "      <td>64566.0</td>\n",
       "      <td>Debra Aten</td>\n",
       "      <td></td>\n",
       "      <td>Laptop 12\" SC1 SH2</td>\n",
       "      <td>1</td>\n",
       "    </tr>\n",
       "    <tr>\n",
       "      <th>1</th>\n",
       "      <td>NaN</td>\n",
       "      <td>NaN</td>\n",
       "      <td></td>\n",
       "      <td>Monitor 22\" SC1</td>\n",
       "      <td>1</td>\n",
       "    </tr>\n",
       "    <tr>\n",
       "      <th>2</th>\n",
       "      <td>67059.0</td>\n",
       "      <td>Marcia Paulsen</td>\n",
       "      <td></td>\n",
       "      <td>Laptop 12\" SC1 SH2</td>\n",
       "      <td>1</td>\n",
       "    </tr>\n",
       "    <tr>\n",
       "      <th>3</th>\n",
       "      <td>NaN</td>\n",
       "      <td>NaN</td>\n",
       "      <td></td>\n",
       "      <td>Monitor 22\" SC1</td>\n",
       "      <td>2</td>\n",
       "    </tr>\n",
       "    <tr>\n",
       "      <th>4</th>\n",
       "      <td>67127.0</td>\n",
       "      <td>Stephen Krumpack Jr</td>\n",
       "      <td></td>\n",
       "      <td>Laptop 12\" SC1 SH2</td>\n",
       "      <td>1</td>\n",
       "    </tr>\n",
       "  </tbody>\n",
       "</table>\n",
       "</div>"
      ],
      "text/plain": [
       "        ID             Employee Desk Location           Equipment  Qty\n",
       "0  64566.0           Debra Aten                Laptop 12\" SC1 SH2    1\n",
       "1      NaN                  NaN                   Monitor 22\" SC1    1\n",
       "2  67059.0       Marcia Paulsen                Laptop 12\" SC1 SH2    1\n",
       "3      NaN                  NaN                   Monitor 22\" SC1    2\n",
       "4  67127.0  Stephen Krumpack Jr                Laptop 12\" SC1 SH2    1"
      ]
     },
     "execution_count": 6,
     "metadata": {},
     "output_type": "execute_result"
    }
   ],
   "source": [
    "left_table.head()"
   ]
  },
  {
   "cell_type": "code",
   "execution_count": 7,
   "metadata": {},
   "outputs": [
    {
     "data": {
      "text/plain": [
       "ID               float64\n",
       "Employee          object\n",
       "Desk Location     object\n",
       "Equipment         object\n",
       "Qty                int64\n",
       "dtype: object"
      ]
     },
     "execution_count": 7,
     "metadata": {},
     "output_type": "execute_result"
    }
   ],
   "source": [
    "left_table.dtypes"
   ]
  },
  {
   "cell_type": "code",
   "execution_count": 8,
   "metadata": {
    "collapsed": true
   },
   "outputs": [],
   "source": [
    "right_table = pd.read_excel('right_table.xlsx', 'Sheet1')\n",
    "#right_table = pd.read_csv('right_table.csv')"
   ]
  },
  {
   "cell_type": "code",
   "execution_count": 9,
   "metadata": {},
   "outputs": [
    {
     "data": {
      "text/html": [
       "<div>\n",
       "<style>\n",
       "    .dataframe thead tr:only-child th {\n",
       "        text-align: right;\n",
       "    }\n",
       "\n",
       "    .dataframe thead th {\n",
       "        text-align: left;\n",
       "    }\n",
       "\n",
       "    .dataframe tbody tr th {\n",
       "        vertical-align: top;\n",
       "    }\n",
       "</style>\n",
       "<table border=\"1\" class=\"dataframe\">\n",
       "  <thead>\n",
       "    <tr style=\"text-align: right;\">\n",
       "      <th></th>\n",
       "      <th>Names</th>\n",
       "      <th>Desk Location</th>\n",
       "      <th>Laptop</th>\n",
       "      <th>Monitors</th>\n",
       "    </tr>\n",
       "  </thead>\n",
       "  <tbody>\n",
       "    <tr>\n",
       "      <th>0</th>\n",
       "      <td>Christian Herrmann</td>\n",
       "      <td>30-001</td>\n",
       "      <td>1</td>\n",
       "      <td>1 24in</td>\n",
       "    </tr>\n",
       "    <tr>\n",
       "      <th>1</th>\n",
       "      <td>Matthias Ruegge</td>\n",
       "      <td>30-003</td>\n",
       "      <td>1</td>\n",
       "      <td>1 24in</td>\n",
       "    </tr>\n",
       "    <tr>\n",
       "      <th>2</th>\n",
       "      <td>Harrison Dobe</td>\n",
       "      <td>30-004</td>\n",
       "      <td>1 Macbook</td>\n",
       "      <td>1 Mac Monitor</td>\n",
       "    </tr>\n",
       "    <tr>\n",
       "      <th>3</th>\n",
       "      <td>Ross Duchene</td>\n",
       "      <td>30-005</td>\n",
       "      <td>1</td>\n",
       "      <td>2</td>\n",
       "    </tr>\n",
       "    <tr>\n",
       "      <th>4</th>\n",
       "      <td>Denise Lauer</td>\n",
       "      <td>30-006</td>\n",
       "      <td>1</td>\n",
       "      <td>1 24in</td>\n",
       "    </tr>\n",
       "  </tbody>\n",
       "</table>\n",
       "</div>"
      ],
      "text/plain": [
       "                Names Desk Location      Laptop       Monitors\n",
       "0  Christian Herrmann        30-001           1         1 24in\n",
       "1     Matthias Ruegge        30-003           1         1 24in\n",
       "2       Harrison Dobe        30-004  1 Macbook   1 Mac Monitor\n",
       "3        Ross Duchene        30-005           1              2\n",
       "4        Denise Lauer        30-006           1         1 24in"
      ]
     },
     "execution_count": 9,
     "metadata": {},
     "output_type": "execute_result"
    }
   ],
   "source": [
    "right_table.head()"
   ]
  },
  {
   "cell_type": "code",
   "execution_count": 10,
   "metadata": {},
   "outputs": [
    {
     "data": {
      "text/plain": [
       "Names            object\n",
       "Desk Location    object\n",
       "Laptop           object\n",
       "Monitors         object\n",
       "dtype: object"
      ]
     },
     "execution_count": 10,
     "metadata": {},
     "output_type": "execute_result"
    }
   ],
   "source": [
    "right_table.dtypes"
   ]
  },
  {
   "cell_type": "code",
   "execution_count": 11,
   "metadata": {
    "collapsed": true
   },
   "outputs": [],
   "source": [
    "left_table['Desk Location'] = left_table[['Employee']]\\\n",
    "    .merge(right_table[['Names', 'Desk Location']],\\\n",
    "                         left_on='Employee', \\\n",
    "                         right_on='Names', \\\n",
    "                         how='left')['Desk Location'].values"
   ]
  },
  {
   "cell_type": "code",
   "execution_count": 12,
   "metadata": {},
   "outputs": [
    {
     "data": {
      "text/html": [
       "<div>\n",
       "<style>\n",
       "    .dataframe thead tr:only-child th {\n",
       "        text-align: right;\n",
       "    }\n",
       "\n",
       "    .dataframe thead th {\n",
       "        text-align: left;\n",
       "    }\n",
       "\n",
       "    .dataframe tbody tr th {\n",
       "        vertical-align: top;\n",
       "    }\n",
       "</style>\n",
       "<table border=\"1\" class=\"dataframe\">\n",
       "  <thead>\n",
       "    <tr style=\"text-align: right;\">\n",
       "      <th></th>\n",
       "      <th>ID</th>\n",
       "      <th>Employee</th>\n",
       "      <th>Desk Location</th>\n",
       "      <th>Equipment</th>\n",
       "      <th>Qty</th>\n",
       "    </tr>\n",
       "  </thead>\n",
       "  <tbody>\n",
       "    <tr>\n",
       "      <th>0</th>\n",
       "      <td>64566.0</td>\n",
       "      <td>Debra Aten</td>\n",
       "      <td>NaN</td>\n",
       "      <td>Laptop 12\" SC1 SH2</td>\n",
       "      <td>1</td>\n",
       "    </tr>\n",
       "    <tr>\n",
       "      <th>1</th>\n",
       "      <td>NaN</td>\n",
       "      <td>NaN</td>\n",
       "      <td>NaN</td>\n",
       "      <td>Monitor 22\" SC1</td>\n",
       "      <td>1</td>\n",
       "    </tr>\n",
       "    <tr>\n",
       "      <th>2</th>\n",
       "      <td>67059.0</td>\n",
       "      <td>Marcia Paulsen</td>\n",
       "      <td>30-014</td>\n",
       "      <td>Laptop 12\" SC1 SH2</td>\n",
       "      <td>1</td>\n",
       "    </tr>\n",
       "    <tr>\n",
       "      <th>3</th>\n",
       "      <td>NaN</td>\n",
       "      <td>NaN</td>\n",
       "      <td>NaN</td>\n",
       "      <td>Monitor 22\" SC1</td>\n",
       "      <td>2</td>\n",
       "    </tr>\n",
       "    <tr>\n",
       "      <th>4</th>\n",
       "      <td>67127.0</td>\n",
       "      <td>Stephen Krumpack Jr</td>\n",
       "      <td>NaN</td>\n",
       "      <td>Laptop 12\" SC1 SH2</td>\n",
       "      <td>1</td>\n",
       "    </tr>\n",
       "    <tr>\n",
       "      <th>5</th>\n",
       "      <td>67128.0</td>\n",
       "      <td>Kimberly Tentler</td>\n",
       "      <td>NaN</td>\n",
       "      <td>Laptop 12\" SC1 SH2</td>\n",
       "      <td>1</td>\n",
       "    </tr>\n",
       "    <tr>\n",
       "      <th>6</th>\n",
       "      <td>67131.0</td>\n",
       "      <td>Kelly Klein-Bartkiewicz</td>\n",
       "      <td>30-110</td>\n",
       "      <td>Laptop 14\" SC1 SH2</td>\n",
       "      <td>1</td>\n",
       "    </tr>\n",
       "    <tr>\n",
       "      <th>7</th>\n",
       "      <td>NaN</td>\n",
       "      <td>NaN</td>\n",
       "      <td>NaN</td>\n",
       "      <td>Monitor 22\" SC1</td>\n",
       "      <td>2</td>\n",
       "    </tr>\n",
       "    <tr>\n",
       "      <th>8</th>\n",
       "      <td>67132.0</td>\n",
       "      <td>Robert Stella</td>\n",
       "      <td>NaN</td>\n",
       "      <td>Laptop 14\" SC1 SH2</td>\n",
       "      <td>1</td>\n",
       "    </tr>\n",
       "    <tr>\n",
       "      <th>9</th>\n",
       "      <td>NaN</td>\n",
       "      <td>NaN</td>\n",
       "      <td>NaN</td>\n",
       "      <td>Laptop 12\" SC1 SH2</td>\n",
       "      <td>1</td>\n",
       "    </tr>\n",
       "  </tbody>\n",
       "</table>\n",
       "</div>"
      ],
      "text/plain": [
       "        ID                 Employee Desk Location           Equipment  Qty\n",
       "0  64566.0               Debra Aten           NaN  Laptop 12\" SC1 SH2    1\n",
       "1      NaN                      NaN           NaN     Monitor 22\" SC1    1\n",
       "2  67059.0           Marcia Paulsen        30-014  Laptop 12\" SC1 SH2    1\n",
       "3      NaN                      NaN           NaN     Monitor 22\" SC1    2\n",
       "4  67127.0      Stephen Krumpack Jr           NaN  Laptop 12\" SC1 SH2    1\n",
       "5  67128.0         Kimberly Tentler           NaN  Laptop 12\" SC1 SH2    1\n",
       "6  67131.0  Kelly Klein-Bartkiewicz        30-110  Laptop 14\" SC1 SH2    1\n",
       "7      NaN                      NaN           NaN     Monitor 22\" SC1    2\n",
       "8  67132.0            Robert Stella           NaN  Laptop 14\" SC1 SH2    1\n",
       "9      NaN                      NaN           NaN  Laptop 12\" SC1 SH2    1"
      ]
     },
     "execution_count": 12,
     "metadata": {},
     "output_type": "execute_result"
    }
   ],
   "source": [
    "left_table.head(10)"
   ]
  },
  {
   "cell_type": "code",
   "execution_count": 13,
   "metadata": {},
   "outputs": [
    {
     "data": {
      "text/html": [
       "<div>\n",
       "<style>\n",
       "    .dataframe thead tr:only-child th {\n",
       "        text-align: right;\n",
       "    }\n",
       "\n",
       "    .dataframe thead th {\n",
       "        text-align: left;\n",
       "    }\n",
       "\n",
       "    .dataframe tbody tr th {\n",
       "        vertical-align: top;\n",
       "    }\n",
       "</style>\n",
       "<table border=\"1\" class=\"dataframe\">\n",
       "  <thead>\n",
       "    <tr style=\"text-align: right;\">\n",
       "      <th></th>\n",
       "      <th>ID</th>\n",
       "      <th>Employee</th>\n",
       "    </tr>\n",
       "  </thead>\n",
       "  <tbody>\n",
       "    <tr>\n",
       "      <th>0</th>\n",
       "      <td>64566.0</td>\n",
       "      <td>Debra Aten</td>\n",
       "    </tr>\n",
       "    <tr>\n",
       "      <th>1</th>\n",
       "      <td>NaN</td>\n",
       "      <td>NaN</td>\n",
       "    </tr>\n",
       "    <tr>\n",
       "      <th>3</th>\n",
       "      <td>NaN</td>\n",
       "      <td>NaN</td>\n",
       "    </tr>\n",
       "    <tr>\n",
       "      <th>4</th>\n",
       "      <td>67127.0</td>\n",
       "      <td>Stephen Krumpack Jr</td>\n",
       "    </tr>\n",
       "    <tr>\n",
       "      <th>5</th>\n",
       "      <td>67128.0</td>\n",
       "      <td>Kimberly Tentler</td>\n",
       "    </tr>\n",
       "    <tr>\n",
       "      <th>7</th>\n",
       "      <td>NaN</td>\n",
       "      <td>NaN</td>\n",
       "    </tr>\n",
       "    <tr>\n",
       "      <th>8</th>\n",
       "      <td>67132.0</td>\n",
       "      <td>Robert Stella</td>\n",
       "    </tr>\n",
       "    <tr>\n",
       "      <th>9</th>\n",
       "      <td>NaN</td>\n",
       "      <td>NaN</td>\n",
       "    </tr>\n",
       "    <tr>\n",
       "      <th>10</th>\n",
       "      <td>NaN</td>\n",
       "      <td>NaN</td>\n",
       "    </tr>\n",
       "    <tr>\n",
       "      <th>11</th>\n",
       "      <td>67164.0</td>\n",
       "      <td>Winnie Kuo</td>\n",
       "    </tr>\n",
       "  </tbody>\n",
       "</table>\n",
       "</div>"
      ],
      "text/plain": [
       "         ID             Employee\n",
       "0   64566.0           Debra Aten\n",
       "1       NaN                  NaN\n",
       "3       NaN                  NaN\n",
       "4   67127.0  Stephen Krumpack Jr\n",
       "5   67128.0     Kimberly Tentler\n",
       "7       NaN                  NaN\n",
       "8   67132.0        Robert Stella\n",
       "9       NaN                  NaN\n",
       "10      NaN                  NaN\n",
       "11  67164.0           Winnie Kuo"
      ]
     },
     "execution_count": 13,
     "metadata": {},
     "output_type": "execute_result"
    }
   ],
   "source": [
    "# These are the 'Employee' that were not assigned a 'Desk Location',\n",
    "# therefore, the 'Names' is not present or not spelled the same\n",
    "# in right_table.\n",
    "left_table[['ID', 'Employee']][left_table['Desk Location'].isnull()].head(10)"
   ]
  }
 ],
 "metadata": {
  "kernelspec": {
   "display_name": "Python 3",
   "language": "python",
   "name": "python3"
  },
  "language_info": {
   "codemirror_mode": {
    "name": "ipython",
    "version": 3
   },
   "file_extension": ".py",
   "mimetype": "text/x-python",
   "name": "python",
   "nbconvert_exporter": "python",
   "pygments_lexer": "ipython3",
   "version": "3.6.3"
  }
 },
 "nbformat": 4,
 "nbformat_minor": 2
}
